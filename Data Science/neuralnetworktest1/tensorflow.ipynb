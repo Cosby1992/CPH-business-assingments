{
 "metadata": {
  "language_info": {
   "codemirror_mode": {
    "name": "ipython",
    "version": 3
   },
   "file_extension": ".py",
   "mimetype": "text/x-python",
   "name": "python",
   "nbconvert_exporter": "python",
   "pygments_lexer": "ipython3",
   "version": "3.9.1"
  },
  "orig_nbformat": 2,
  "kernelspec": {
   "name": "python391jvsc74a57bd0ac59ebe37160ed0dfa835113d9b8498d9f09ceb179beaac4002f036b9467c963",
   "display_name": "Python 3.9.1 64-bit"
  },
  "metadata": {
   "interpreter": {
    "hash": "ac59ebe37160ed0dfa835113d9b8498d9f09ceb179beaac4002f036b9467c963"
   }
  }
 },
 "nbformat": 4,
 "nbformat_minor": 2,
 "cells": [
  {
   "cell_type": "code",
   "execution_count": 3,
   "metadata": {},
   "outputs": [],
   "source": [
    "#!pip install tensorflow\n",
    "import tensorflow as tf"
   ]
  },
  {
   "source": [
    "Create a tensorflow of the image below\n",
    "\n",
    "![image](imageabove.png)"
   ],
   "cell_type": "markdown",
   "metadata": {}
  },
  {
   "cell_type": "code",
   "execution_count": 11,
   "metadata": {},
   "outputs": [
    {
     "output_type": "stream",
     "name": "stdout",
     "text": [
      "Addition: [ 5  8 28]\nProduct: [ 10  21 210]\nResult: [  5  13 182]\n"
     ]
    }
   ],
   "source": [
    "# Intialize the Session\n",
    "with tf.compat.v1.Session() as sess:\n",
    "    # Initialize two vectors\n",
    "    a = tf.constant([5,7,10])\n",
    "    b = tf.constant([2,3,21])\n",
    "    c = tf.constant([3,5,7])\n",
    "\n",
    "    addition = tf.add(b, c)\n",
    "    print(\"Addition:\", sess.run(addition))\n",
    "\n",
    "    product = tf.multiply(a, b)\n",
    "    print(\"Product:\", sess.run(product))\n",
    "\n",
    "    result = tf.subtract(product, addition)\n",
    "\n",
    "    # Print the result\n",
    "    print(\"Result:\", sess.run(result))\n",
    "\n",
    "    # Close the session\n",
    "    sess.close()"
   ]
  },
  {
   "cell_type": "code",
   "execution_count": null,
   "metadata": {},
   "outputs": [],
   "source": []
  }
 ]
}